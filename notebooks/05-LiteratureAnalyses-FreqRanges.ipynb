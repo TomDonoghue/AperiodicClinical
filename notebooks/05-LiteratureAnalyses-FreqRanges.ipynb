{
 "cells": [
  {
   "cell_type": "markdown",
   "id": "0795d242",
   "metadata": {},
   "source": [
    "# Literature Analyses - Frequency Ranges"
   ]
  },
  {
   "cell_type": "code",
   "execution_count": 1,
   "id": "9f4eb8c9",
   "metadata": {},
   "outputs": [],
   "source": [
    "from pathlib import Path\n",
    "from collections import Counter\n",
    "\n",
    "import numpy as np\n",
    "import pandas as pd\n",
    "import matplotlib.pyplot as plt"
   ]
  },
  {
   "cell_type": "code",
   "execution_count": 2,
   "id": "d7784bd1",
   "metadata": {},
   "outputs": [],
   "source": [
    "# Import local code\n",
    "from local.utils import replace_multi_str, convert_franges                        \n",
    "from local.plts import plot_franges, savefig"
   ]
  },
  {
   "cell_type": "code",
   "execution_count": 3,
   "id": "13d95402",
   "metadata": {},
   "outputs": [],
   "source": [
    "import seaborn as sns\n",
    "sns.set_context('paper')"
   ]
  },
  {
   "cell_type": "markdown",
   "id": "53e6cda0",
   "metadata": {},
   "source": [
    "## Settings"
   ]
  },
  {
   "cell_type": "code",
   "execution_count": 4,
   "id": "c405ed63",
   "metadata": {},
   "outputs": [],
   "source": [
    "# Define figure save path folder\n",
    "save_folder = Path('./figs/')"
   ]
  },
  {
   "cell_type": "code",
   "execution_count": 5,
   "id": "892e0c4f",
   "metadata": {},
   "outputs": [],
   "source": [
    "# Data settings\n",
    "ADD_MULTIPLE_RANGES = False"
   ]
  },
  {
   "cell_type": "code",
   "execution_count": 6,
   "id": "8aaa26a7",
   "metadata": {},
   "outputs": [],
   "source": [
    "# Set the notebook run settings \n",
    "SAVE_FIG = True"
   ]
  },
  {
   "cell_type": "markdown",
   "id": "feae5032",
   "metadata": {},
   "source": [
    "## Load the Data"
   ]
  },
  {
   "cell_type": "code",
   "execution_count": 7,
   "id": "5d60585e",
   "metadata": {},
   "outputs": [],
   "source": [
    "# Set the file name\n",
    "file_foler = Path('../data/')\n",
    "file_name = 'apc_data.csv'"
   ]
  },
  {
   "cell_type": "code",
   "execution_count": 8,
   "id": "cb311368",
   "metadata": {},
   "outputs": [],
   "source": [
    "# Load the data\n",
    "df = pd.read_csv(file_foler / file_name, skiprows=[0])"
   ]
  },
  {
   "cell_type": "code",
   "execution_count": 9,
   "id": "74f04f51",
   "metadata": {},
   "outputs": [],
   "source": [
    "# Drop the null rows\n",
    "df = df.dropna()"
   ]
  },
  {
   "cell_type": "markdown",
   "id": "84bafcd4",
   "metadata": {},
   "source": [
    "## Manage Fit Range Data"
   ]
  },
  {
   "cell_type": "markdown",
   "id": "6ed6690e",
   "metadata": {},
   "source": [
    "#### Collect multiple fit range values"
   ]
  },
  {
   "cell_type": "code",
   "execution_count": 10,
   "id": "8011375b",
   "metadata": {},
   "outputs": [],
   "source": [
    "# Collect the multi range values\n",
    "multi_ranges = []\n",
    "for fr in df['Fit Range'].values:\n",
    "    if '\\u2028' in fr:\n",
    "        multi_ranges.append(fr)"
   ]
  },
  {
   "cell_type": "code",
   "execution_count": 11,
   "id": "2ec97b7d",
   "metadata": {},
   "outputs": [
    {
     "name": "stdout",
     "output_type": "stream",
     "text": [
      "['2-50\\u20281-30', '1-45\\u202830-45', 'low\\u2028high', '1-15\\u202815-45', '1-20\\u202830-100', '40-90\\u202810-50']\n"
     ]
    }
   ],
   "source": [
    "print(multi_ranges)"
   ]
  },
  {
   "cell_type": "code",
   "execution_count": 12,
   "id": "9b29ffbe",
   "metadata": {},
   "outputs": [
    {
     "name": "stdout",
     "output_type": "stream",
     "text": [
      "['2-50', '1-30', '1-45', '30-45', '1-15', '15-45', '1-20', '30-100', '40-90', '10-50']\n"
     ]
    }
   ],
   "source": [
    "# Split and clean up freq ranges defined in a multi range list\n",
    "multi_ranges = [el.split('\\u2028') for el in multi_ranges]\n",
    "multi_ranges = [el for lst in multi_ranges for el in lst]\n",
    "multi_ranges = [el for el in multi_ranges if '-' in el]\n",
    "print(multi_ranges)"
   ]
  },
  {
   "cell_type": "code",
   "execution_count": 13,
   "id": "222ae951",
   "metadata": {},
   "outputs": [],
   "source": [
    "# Replace multiple ranges with 'multiple'\n",
    "df = replace_multi_str(df, 'Fit Range')"
   ]
  },
  {
   "cell_type": "markdown",
   "id": "c25b4cdb",
   "metadata": {},
   "source": [
    "#### Count frequency range occurences"
   ]
  },
  {
   "cell_type": "code",
   "execution_count": 14,
   "id": "4fda85c4",
   "metadata": {},
   "outputs": [],
   "source": [
    "# Count occurences of frequency ranges\n",
    "fr_counter = Counter(df['Fit Range'])"
   ]
  },
  {
   "cell_type": "code",
   "execution_count": 15,
   "id": "aca65934",
   "metadata": {},
   "outputs": [],
   "source": [
    "# Pop and grab counts of multiple and unclear\n",
    "n_mult = fr_counter.pop('multiple')\n",
    "n_uncl = fr_counter.pop('unclear')"
   ]
  },
  {
   "cell_type": "code",
   "execution_count": 16,
   "id": "db9786e5",
   "metadata": {},
   "outputs": [
    {
     "name": "stdout",
     "output_type": "stream",
     "text": [
      "# of multiple: 10\n",
      "# of unclear : 32\n"
     ]
    }
   ],
   "source": [
    "print('# of multiple: {}'.format(n_mult))\n",
    "print('# of unclear : {}'.format(n_uncl))"
   ]
  },
  {
   "cell_type": "code",
   "execution_count": 17,
   "id": "5a9b5566",
   "metadata": {},
   "outputs": [],
   "source": [
    "# Convert frequency ranges to tuples of float\n",
    "ranges = {convert_franges(crange) : count for crange, count in fr_counter.items()}"
   ]
  },
  {
   "cell_type": "markdown",
   "id": "8646db9a",
   "metadata": {},
   "source": [
    "#### Add multiple ranges to counts"
   ]
  },
  {
   "cell_type": "code",
   "execution_count": 18,
   "id": "8007fff2",
   "metadata": {},
   "outputs": [],
   "source": [
    "if ADD_MULTIPLE_RANGES:\n",
    "    for mrange in multi_ranges:\n",
    "        cmrange = convert_frange(mrange)\n",
    "        if cmrange in ranges:\n",
    "            ranges[cmrange] += 1 \n",
    "        else:\n",
    "            ranges[cmrange] = 1"
   ]
  },
  {
   "cell_type": "code",
   "execution_count": 19,
   "id": "063faa9a",
   "metadata": {},
   "outputs": [],
   "source": [
    "# Collect list of all ranges (including multiples)\n",
    "all_ranges = []\n",
    "for frange in sorted(ranges):\n",
    "    for ii in range(ranges[frange]):\n",
    "        all_ranges.append(frange)"
   ]
  },
  {
   "cell_type": "markdown",
   "id": "a0c4f8a3",
   "metadata": {},
   "source": [
    "### Plot all ranges"
   ]
  },
  {
   "cell_type": "code",
   "execution_count": 20,
   "id": "aa7ff4d8",
   "metadata": {},
   "outputs": [
    {
     "data": {
      "image/png": "[encoded data removed]",
      "text/plain": [
       "<Figure size 400x800 with 1 Axes>"
      ]
     },
     "metadata": {},
     "output_type": "display_data"
    }
   ],
   "source": [
    "# Plot all ranges\n",
    "plot_franges(all_ranges)"
   ]
  },
  {
   "cell_type": "markdown",
   "id": "4b648767",
   "metadata": {},
   "source": [
    "### Plot - once per range definition"
   ]
  },
  {
   "cell_type": "code",
   "execution_count": 21,
   "id": "36699ea9",
   "metadata": {},
   "outputs": [
    {
     "data": {
      "image/png": "[encoded data removed]",
      "text/plain": [
       "<Figure size 400x800 with 1 Axes>"
      ]
     },
     "metadata": {},
     "output_type": "display_data"
    }
   ],
   "source": [
    "# Plot once per range\n",
    "plot_franges(ranges)"
   ]
  },
  {
   "cell_type": "markdown",
   "id": "d92ac345",
   "metadata": {},
   "source": [
    "### Frequency Value Occurences"
   ]
  },
  {
   "cell_type": "code",
   "execution_count": 22,
   "id": "cc39d4ac",
   "metadata": {},
   "outputs": [
    {
     "name": "stdout",
     "output_type": "stream",
     "text": [
      "N studies included:  135\n"
     ]
    }
   ],
   "source": [
    "print('N studies included: ', len(all_ranges))"
   ]
  },
  {
   "cell_type": "code",
   "execution_count": 23,
   "id": "46ff255c",
   "metadata": {},
   "outputs": [],
   "source": [
    "# Settings\n",
    "bs = 0.25\n",
    "sf = 0\n",
    "ef = 75"
   ]
  },
  {
   "cell_type": "code",
   "execution_count": 24,
   "id": "460bf995",
   "metadata": {},
   "outputs": [],
   "source": [
    "# Threshold values to check\n",
    "thresh1 = 0.85\n",
    "thresh2 = 0.50"
   ]
  },
  {
   "cell_type": "code",
   "execution_count": 25,
   "id": "3fea87f0",
   "metadata": {},
   "outputs": [],
   "source": [
    "# Define range of frequency to check\n",
    "all_freqs = np.arange(sf, ef + bs, bs)"
   ]
  },
  {
   "cell_type": "code",
   "execution_count": 26,
   "id": "b90f94c7",
   "metadata": {},
   "outputs": [],
   "source": [
    "# Collect ratio of how often each frequency is included in a defined frequency range\n",
    "counts = np.zeros(len(all_freqs))\n",
    "for crange in all_ranges:\n",
    "    counts = counts + np.isin(all_freqs, np.arange(crange[0], crange[1] + bs, bs))\n",
    "counts = counts / len(all_ranges)"
   ]
  },
  {
   "cell_type": "code",
   "execution_count": 30,
   "id": "4e0f62e7",
   "metadata": {},
   "outputs": [
    {
     "data": {
      "image/png": "[encoded data removed]",
      "text/plain": [
       "<Figure size 300x225 with 1 Axes>"
      ]
     },
     "metadata": {},
     "output_type": "display_data"
    }
   ],
   "source": [
    "# Plot frequency value occurence plot\n",
    "fig, ax = plt.subplots(figsize=(3, 2.25))\n",
    "ax.plot(all_freqs, counts, lw=1.75)\n",
    "ax.set(xlim=[0, 75], ylim=[0, 1], xlabel='Frequency (Hz)', ylabel='Inclusion Ratio')\n",
    "ax.axhline(thresh1, linestyle='--', color='black', alpha=0.25, zorder=1)\n",
    "ax.axhline(thresh2, linestyle='--', color='black', alpha=0.25, zorder=1)\n",
    "savefig(SAVE_FIG, 'freq_ranges.pdf', save_folder)"
   ]
  },
  {
   "cell_type": "code",
   "execution_count": 28,
   "id": "a1a3dabd",
   "metadata": {},
   "outputs": [
    {
     "name": "stdout",
     "output_type": "stream",
     "text": [
      "Most included range: 3.0-30.0 Hz.\n"
     ]
    }
   ],
   "source": [
    "# Check range - high threshold\n",
    "included_freqs1 = all_freqs[counts > thresh1]\n",
    "print('Most included range: {}-{} Hz.'.format(min(included_freqs1), max(included_freqs1)))"
   ]
  },
  {
   "cell_type": "code",
   "execution_count": 29,
   "id": "c7adfbb0",
   "metadata": {},
   "outputs": [
    {
     "name": "stdout",
     "output_type": "stream",
     "text": [
      "Most included range: 1.0-45.0 Hz.\n"
     ]
    }
   ],
   "source": [
    "# Check included - medium threshold\n",
    "included_freqs2 = all_freqs[counts > thresh2]\n",
    "print('Most included range: {}-{} Hz.'.format(min(included_freqs2), max(included_freqs2)))"
   ]
  }
 ],
 "metadata": {
  "kernelspec": {
   "display_name": "Python 3 (ipykernel)",
   "language": "python",
   "name": "python3"
  },
  "language_info": {
   "codemirror_mode": {
    "name": "ipython",
    "version": 3
   },
   "file_extension": ".py",
   "mimetype": "text/x-python",
   "name": "python",
   "nbconvert_exporter": "python",
   "pygments_lexer": "ipython3",
   "version": "3.8.3"
  }
 },
 "nbformat": 4,
 "nbformat_minor": 5
}
