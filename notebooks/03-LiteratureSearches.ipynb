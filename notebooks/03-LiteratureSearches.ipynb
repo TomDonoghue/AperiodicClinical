{
 "cells": [
  {
   "cell_type": "markdown",
   "id": "5cba5866",
   "metadata": {},
   "source": [
    "# Literature Searches\n",
    "\n",
    "This notebook uses automated literature searches to find and collect literature for the aperiodic-clinical project.\n",
    "\n",
    "Tools:\n",
    "- literature searches and analyses are done with the [lisc](https://lisc-tools.github.io/lisc/) module"
   ]
  },
  {
   "cell_type": "code",
   "execution_count": 1,
   "id": "2a890200",
   "metadata": {},
   "outputs": [],
   "source": [
    "# Import lisc code\n",
    "from lisc import Words\n",
    "from lisc.data import ArticlesAll\n",
    "from lisc.collect import collect_info"
   ]
  },
  {
   "cell_type": "code",
   "execution_count": 2,
   "id": "6de85cb8",
   "metadata": {},
   "outputs": [],
   "source": [
    "# Import local code\n",
    "from local.terms import TERMS, EXCLUSIONS"
   ]
  },
  {
   "cell_type": "code",
   "execution_count": 3,
   "id": "1b7d5961",
   "metadata": {},
   "outputs": [],
   "source": [
    "import seaborn as sns\n",
    "sns.set_context('talk')"
   ]
  },
  {
   "cell_type": "markdown",
   "id": "54d84efb",
   "metadata": {},
   "source": [
    "## Settings"
   ]
  },
  {
   "cell_type": "code",
   "execution_count": 4,
   "id": "0dfcab4d",
   "metadata": {},
   "outputs": [],
   "source": [
    "# Data collection settings\n",
    "RUN_COLLECTION = True"
   ]
  },
  {
   "cell_type": "code",
   "execution_count": 5,
   "id": "aec19135",
   "metadata": {},
   "outputs": [],
   "source": [
    "# Settings for literature collection\n",
    "db = 'pubmed'\n",
    "retmax = 100"
   ]
  },
  {
   "cell_type": "code",
   "execution_count": 6,
   "id": "6ee27763",
   "metadata": {},
   "outputs": [],
   "source": [
    "# Optional settings - set time ranges of interest, 'YEAR/MONTH/DAY'\n",
    "eutils_kwargs = {\n",
    "    'mindate' : '2024/07/01',\n",
    "    'maxdate' : '2024/12/31',\n",
    "}"
   ]
  },
  {
   "cell_type": "code",
   "execution_count": 7,
   "id": "18ba49ff",
   "metadata": {},
   "outputs": [],
   "source": [
    "# Drop undefined settings from dict\n",
    "for key in list(eutils_kwargs.keys()):\n",
    "    if not eutils_kwargs[key]:\n",
    "        eutils_kwargs.pop(key)"
   ]
  },
  {
   "cell_type": "markdown",
   "id": "95619945",
   "metadata": {},
   "source": [
    "### Metadata Check"
   ]
  },
  {
   "cell_type": "code",
   "execution_count": 8,
   "id": "62879ba6",
   "metadata": {},
   "outputs": [],
   "source": [
    "if RUN_COLLECTION:\n",
    "    meta_data = collect_info()"
   ]
  },
  {
   "cell_type": "code",
   "execution_count": 9,
   "id": "09ff01eb",
   "metadata": {},
   "outputs": [
    {
     "data": {
      "text/plain": [
       "{'date': '2025-08-16_13:53:12', 'log': None, 'requester_n_requests': 1, 'requester_wait_time': 0.3333333333333333, 'requester_start_time': '13:53:12 Saturday 16 August 2025', 'requester_end_time': '13:53:12 Saturday 16 August 2025', 'requester_logging': None, 'db_info_dbname': 'pubmed', 'db_info_menuname': 'PubMed', 'db_info_description': 'PubMed bibliographic record', 'db_info_dbbuild': 'Build-2025.08.16.00.56', 'db_info_count': '39253947', 'db_info_lastupdate': '2025/08/16 00:56'}"
      ]
     },
     "execution_count": 9,
     "metadata": {},
     "output_type": "execute_result"
    }
   ],
   "source": [
    "meta_data"
   ]
  },
  {
   "cell_type": "markdown",
   "id": "15b38176",
   "metadata": {},
   "source": [
    "## Words - clinical\n",
    "\n",
    "Find literature based on aperiodic measure related terms and general clinical terms."
   ]
  },
  {
   "cell_type": "code",
   "execution_count": 10,
   "id": "0adef60a",
   "metadata": {},
   "outputs": [],
   "source": [
    "# Initialize words objects\n",
    "words = Words()"
   ]
  },
  {
   "cell_type": "code",
   "execution_count": 11,
   "id": "dfbffc97",
   "metadata": {},
   "outputs": [],
   "source": [
    "# Add terms for word collections\n",
    "words.add_terms(TERMS['CLINICAL'])\n",
    "words.add_terms([TERMS['AP'][0].copy() for ii in range(len(words.terms))],\n",
    "                term_type='inclusions')\n",
    "words.add_terms([EXCLUSIONS.copy() for ii in range(len(words.terms))],\n",
    "                term_type='exclusions')"
   ]
  },
  {
   "cell_type": "markdown",
   "id": "16144bb3",
   "metadata": {},
   "source": [
    "### Check Terms"
   ]
  },
  {
   "cell_type": "code",
   "execution_count": 12,
   "id": "2c10fb1b",
   "metadata": {},
   "outputs": [
    {
     "name": "stdout",
     "output_type": "stream",
     "text": [
      "List of terms used: \n",
      "\n",
      "clinical   : clinical\n",
      "disorder   : disorder, disease\n",
      "biomarker  : biomarker\n",
      "diagnosis  : diagnosis, diagnostic\n",
      "treatment  : treatment\n"
     ]
    }
   ],
   "source": [
    "words.check_terms()"
   ]
  },
  {
   "cell_type": "code",
   "execution_count": 13,
   "id": "3f113b93",
   "metadata": {},
   "outputs": [
    {
     "name": "stdout",
     "output_type": "stream",
     "text": [
      "List of inclusions used: \n",
      "\n",
      "clinical   : aperiodic exponent, aperiodic slope, spectral exponent, spectral slope, 1/f slope, 1/f exponent\n",
      "disorder   : aperiodic exponent, aperiodic slope, spectral exponent, spectral slope, 1/f slope, 1/f exponent\n",
      "biomarker  : aperiodic exponent, aperiodic slope, spectral exponent, spectral slope, 1/f slope, 1/f exponent\n",
      "diagnosis  : aperiodic exponent, aperiodic slope, spectral exponent, spectral slope, 1/f slope, 1/f exponent\n",
      "treatment  : aperiodic exponent, aperiodic slope, spectral exponent, spectral slope, 1/f slope, 1/f exponent\n"
     ]
    }
   ],
   "source": [
    "words.check_terms('inclusions')"
   ]
  },
  {
   "cell_type": "code",
   "execution_count": 14,
   "id": "f9e973c0",
   "metadata": {},
   "outputs": [
    {
     "name": "stdout",
     "output_type": "stream",
     "text": [
      "List of exclusions used: \n",
      "\n",
      "clinical   : acid, protein, ion, enzyme, ultrasound, cancer, halide, spectroscopy, iodide, tissue\n",
      "disorder   : acid, protein, ion, enzyme, ultrasound, cancer, halide, spectroscopy, iodide, tissue\n",
      "biomarker  : acid, protein, ion, enzyme, ultrasound, cancer, halide, spectroscopy, iodide, tissue\n",
      "diagnosis  : acid, protein, ion, enzyme, ultrasound, cancer, halide, spectroscopy, iodide, tissue\n",
      "treatment  : acid, protein, ion, enzyme, ultrasound, cancer, halide, spectroscopy, iodide, tissue\n"
     ]
    }
   ],
   "source": [
    "words.check_terms('exclusions')"
   ]
  },
  {
   "cell_type": "markdown",
   "id": "3244f08c",
   "metadata": {},
   "source": [
    "### Run Collection"
   ]
  },
  {
   "cell_type": "code",
   "execution_count": 15,
   "id": "30525c72",
   "metadata": {},
   "outputs": [],
   "source": [
    "# Run collection\n",
    "words.run_collection(retmax=retmax, **eutils_kwargs)"
   ]
  },
  {
   "cell_type": "markdown",
   "id": "7b3c6ee0",
   "metadata": {},
   "source": [
    "### Check Collection"
   ]
  },
  {
   "cell_type": "code",
   "execution_count": 16,
   "id": "6c28293a",
   "metadata": {},
   "outputs": [
    {
     "name": "stdout",
     "output_type": "stream",
     "text": [
      "Number of collected articles per term:\n",
      "\tclinical  \t\t  11\n",
      "\tdisorder  \t\t  9\n",
      "\tbiomarker \t\t  4\n",
      "\tdiagnosis \t\t  2\n",
      "\ttreatment \t\t  2\n"
     ]
    }
   ],
   "source": [
    "# Check the number of papers found per term\n",
    "words.check_data()"
   ]
  },
  {
   "cell_type": "markdown",
   "id": "03dd7838",
   "metadata": {},
   "source": [
    "### Process Articles"
   ]
  },
  {
   "cell_type": "code",
   "execution_count": 17,
   "id": "40bcdd6d",
   "metadata": {},
   "outputs": [],
   "source": [
    "# Compute the all-articles representations of results per search term\n",
    "arts_all = {}\n",
    "for label, res in zip(words.labels, words.results):\n",
    "    arts_all[label] = ArticlesAll(res)"
   ]
  },
  {
   "cell_type": "code",
   "execution_count": 18,
   "id": "ffa06bcf",
   "metadata": {},
   "outputs": [
    {
     "name": "stdout",
     "output_type": "stream",
     "text": [
      "clinical :\n",
      "  Number of articles: \t\t 11\n",
      "  First publication: \t\t 2024\n",
      "  Most common author: \t\t Hill AT\n",
      "    number of publications: \t 2\n",
      "  Most common journal: \t\t bioRxiv : the preprint server for biology\n",
      "    number of publications: \t 2 \n",
      "\n",
      "disorder :\n",
      "  Number of articles: \t\t 9\n",
      "  First publication: \t\t 2024\n",
      "  Most common author: \t\t Park KY\n",
      "    number of publications: \t 1\n",
      "  Most common journal: \t\t bioRxiv : the preprint server for biology\n",
      "    number of publications: \t 1 \n",
      "\n",
      "biomarker :\n",
      "  Number of articles: \t\t 4\n",
      "  First publication: \t\t 2024\n",
      "  Most common author: \t\t Bartoli E\n",
      "    number of publications: \t 2\n",
      "  Most common journal: \t\t Scientific reports\n",
      "    number of publications: \t 1 \n",
      "\n",
      "diagnosis :\n",
      "  Number of articles: \t\t 2\n",
      "  First publication: \t\t 2024\n",
      "  Most common author: \t\t Arnett AB\n",
      "    number of publications: \t 1\n",
      "  Most common journal: \t\t Clinical neurophysiology : official journal of the International Federation of Clinical Neurophysiology\n",
      "    number of publications: \t 1 \n",
      "\n",
      "treatment :\n",
      "  Number of articles: \t\t 2\n",
      "  First publication: \t\t 2024\n",
      "  Most common author: \t\t Hacker C\n",
      "    number of publications: \t 1\n",
      "  Most common journal: \t\t Biological psychiatry. Cognitive neuroscience and neuroimaging\n",
      "    number of publications: \t 1 \n",
      "\n"
     ]
    }
   ],
   "source": [
    "# Check the summaries per search term\n",
    "for label, arts in arts_all.items():\n",
    "    arts.create_summary()\n",
    "    arts.print_summary()"
   ]
  },
  {
   "cell_type": "code",
   "execution_count": 19,
   "id": "23a358d7",
   "metadata": {
    "scrolled": false
   },
   "outputs": [
    {
     "name": "stdout",
     "output_type": "stream",
     "text": [
      "\n",
      "Label: clinical (11 articles)\n",
      "\n",
      "Arnett et al, 2024: EEG aperiodic dynamics from early through late childhood: Associations with ADHD, cognition, and development. https://dx.doi.org/10.1016/j.clinph.2024.11.001\n",
      "Hacker et al, 2025: Aperiodic (1/f) Neural Activity Robustly Tracks Symptom Severity Changes in Treatment-Resistant Depression. https://dx.doi.org/10.1016/j.bpsc.2024.10.019\n",
      "Hill et al, 2024: EEG During Dynamic Facial Emotion Processing Reveals Neural Activity Patterns Associated with Autistic Traits in Children. https://dx.doi.org/10.1101/2024.08.27.609816\n",
      "Donoghue et al, 2024: Evaluating and Comparing Measures of Aperiodic Neural Activity. https://dx.doi.org/10.1101/2024.09.15.613114\n",
      "Østergaard et al, 2024: The aperiodic exponent of neural activity varies with vigilance state in mice and men. https://dx.doi.org/10.1371/journal.pone.0301406\n",
      "Herzberg et al, 2024: Measuring neuroplasticity in human development: the potential to inform the type and timing of mental health interventions. https://dx.doi.org/10.1038/s41386-024-01947-7\n",
      "Guisande et al, 2024: Rényi entropy-complexity causality space: a novel neurocomputational tool for detecting scale-free features in EEG/iEEG data. https://dx.doi.org/10.3389/fncom.2024.1342985\n",
      "Duma et al, 2024: Excitation/Inhibition balance relates to cognitive function and gene expression in temporal lobe epilepsy: a high density EEG assessment with aperiodic exponent. https://dx.doi.org/10.1093/braincomms/fcae231\n",
      "Nguyen et al, 2024: Voice disorder discrimination using vowel acoustic measures in female speakers. https://dx.doi.org/10.1111/1460-6984.13081\n",
      "Earl et al, 2024: Exploring aperiodic activity in first episode schizophrenia spectrum psychosis: A resting-state EEG analysis. https://dx.doi.org/10.1016/j.brainres.2024.149052\n",
      "Saby et al, 2024: Electroencephalographic Correlates of Clinical Severity in the Natural history study of RTT and Related Disorders. https://dx.doi.org/10.1002/ana.26948\n",
      "\n",
      "Label: disorder (9 articles)\n",
      "\n",
      "Park et al, 2024: Aging and the Spectral Properties of Brain Hemodynamics. https://dx.doi.org/10.1101/2024.12.05.626723\n",
      "Arnett et al, 2024: EEG aperiodic dynamics from early through late childhood: Associations with ADHD, cognition, and development. https://dx.doi.org/10.1016/j.clinph.2024.11.001\n",
      "Hacker et al, 2025: Aperiodic (1/f) Neural Activity Robustly Tracks Symptom Severity Changes in Treatment-Resistant Depression. https://dx.doi.org/10.1016/j.bpsc.2024.10.019\n",
      "Latreille et al, 2024: Oscillatory and nonoscillatory sleep electroencephalographic biomarkers of the epileptic network. https://dx.doi.org/10.1111/epi.18088\n",
      "Østergaard et al, 2024: The aperiodic exponent of neural activity varies with vigilance state in mice and men. https://dx.doi.org/10.1371/journal.pone.0301406\n",
      "Deiber et al, 2024: A biomarker of brain arousal mediates the intergenerational link between maternal and child post-traumatic stress disorder. https://dx.doi.org/10.1016/j.jpsychires.2024.07.034\n",
      "Nguyen et al, 2024: Voice disorder discrimination using vowel acoustic measures in female speakers. https://dx.doi.org/10.1111/1460-6984.13081\n",
      "Earl et al, 2024: Exploring aperiodic activity in first episode schizophrenia spectrum psychosis: A resting-state EEG analysis. https://dx.doi.org/10.1016/j.brainres.2024.149052\n",
      "Blaskovich et al, 2024: The utility of wearable headband electroencephalography and pulse photoplethysmography to assess cortical and physiological arousal in individuals with stress-related mental disorders. https://dx.doi.org/10.1111/jsr.14123\n",
      "\n",
      "Label: biomarker (4 articles)\n",
      "\n",
      "Mocchi et al, 2024: Aperiodic spectral slope tracks the effects of brain state on saliency responses in the human auditory cortex. https://dx.doi.org/10.1038/s41598-024-80911-3\n",
      "Park et al, 2024: Aging and the Spectral Properties of Brain Hemodynamics. https://dx.doi.org/10.1101/2024.12.05.626723\n",
      "Hacker et al, 2025: Aperiodic (1/f) Neural Activity Robustly Tracks Symptom Severity Changes in Treatment-Resistant Depression. https://dx.doi.org/10.1016/j.bpsc.2024.10.019\n",
      "Deiber et al, 2024: A biomarker of brain arousal mediates the intergenerational link between maternal and child post-traumatic stress disorder. https://dx.doi.org/10.1016/j.jpsychires.2024.07.034\n",
      "\n",
      "Label: diagnosis (2 articles)\n",
      "\n",
      "Arnett et al, 2024: EEG aperiodic dynamics from early through late childhood: Associations with ADHD, cognition, and development. https://dx.doi.org/10.1016/j.clinph.2024.11.001\n",
      "Duma et al, 2024: Excitation/Inhibition balance relates to cognitive function and gene expression in temporal lobe epilepsy: a high density EEG assessment with aperiodic exponent. https://dx.doi.org/10.1093/braincomms/fcae231\n",
      "\n",
      "Label: treatment (2 articles)\n",
      "\n",
      "Hacker et al, 2025: Aperiodic (1/f) Neural Activity Robustly Tracks Symptom Severity Changes in Treatment-Resistant Depression. https://dx.doi.org/10.1016/j.bpsc.2024.10.019\n",
      "Gao et al, 2024: Catecholaminergic Modulation of Metacontrol Is Reflected by Changes in Aperiodic EEG Activity. https://dx.doi.org/10.1093/ijnp/pyae033\n",
      "\n",
      "\n"
     ]
    }
   ],
   "source": [
    "# Check the results per search term\n",
    "words.check_articles()"
   ]
  },
  {
   "cell_type": "markdown",
   "id": "7cb79ade",
   "metadata": {},
   "source": [
    "## Words - Disorders\n",
    "\n",
    "Find literature based on aperiodic measure related terms and disorder-related terms."
   ]
  },
  {
   "cell_type": "code",
   "execution_count": 20,
   "id": "88cbaa2a",
   "metadata": {},
   "outputs": [],
   "source": [
    "# Initialize words objects\n",
    "words = Words()"
   ]
  },
  {
   "cell_type": "code",
   "execution_count": 21,
   "id": "92a8b5fe",
   "metadata": {},
   "outputs": [],
   "source": [
    "# Add terms for word collections\n",
    "words.add_terms(TERMS['DISORDERS'])\n",
    "words.add_terms([TERMS['AP'][0].copy() for ii in range(len(words.terms))],\n",
    "                term_type='inclusions')\n",
    "words.add_terms([EXCLUSIONS.copy() for ii in range(len(words.terms))],\n",
    "                term_type='exclusions')"
   ]
  },
  {
   "cell_type": "code",
   "execution_count": 22,
   "id": "d6cfb8a6",
   "metadata": {},
   "outputs": [
    {
     "name": "stdout",
     "output_type": "stream",
     "text": [
      "List of terms used: \n",
      "\n",
      "parkinson's                  : parkinson's\n",
      "epilepsy                     : epilepsy, seizure\n",
      "ADHD                         : ADHD, attention deficit hyperactivity disorder\n",
      "autism                       : autism, ASD\n",
      "alzheimers                   : alzheimers, dementia\n",
      "disorders of consciousness   : disorders of consciousness, coma, locked-in\n",
      "depression                   : depression, MDD, major depressive disorder\n",
      "schizophrenia                : schizophrenia\n",
      "stroke                       : stroke\n",
      "dystonia                     : dystonia\n",
      "TBI                          : TBI, traumatic brain injury\n",
      "dyslexia                     : dyslexia\n",
      "glioma                       : glioma\n",
      "huntington's                 : huntington's\n",
      "multiple sclerosis           : multiple sclerosis\n",
      "PTSD                         : PTSD, post traumatic stress disorder\n",
      "REM sleep behavior disorder  : REM sleep behavior disorder\n",
      "rett syndrome                : rett syndrome\n",
      "22q.11.2                     : 22q.11.2\n",
      "ALS                          : ALS, amyotrophic lateral sclerosis, Lou Gehrig's disease\n",
      "anxiety                      : anxiety\n",
      "CDKL5 deficiency disorder    : CDKL5 deficiency disorder\n",
      "chronic pain                 : chronic pain\n",
      "concussion                   : concussion\n",
      "down syndrome                : down syndrome\n",
      "fibromyalgia                 : fibromyalgia\n",
      "fragile X                    : fragile X\n",
      "insomnia                     : insomnia\n",
      "NF1                          : NF1\n",
      "NREM parasomina              : NREM parasomina\n",
      "OCD                          : OCD, obsessive compulsive disorder\n",
      "STXBP1                       : STXBP1\n",
      "tinnitus                     : tinnitus\n",
      "tourette                     : tourette\n",
      "tuberous sclerosis complex   : tuberous sclerosis complex\n",
      "delirium                     : delirium\n",
      "stutter                      : stutter\n",
      "cancer                       : cancer\n"
     ]
    }
   ],
   "source": [
    "words.check_terms()"
   ]
  },
  {
   "cell_type": "code",
   "execution_count": 23,
   "id": "b2b80c46",
   "metadata": {},
   "outputs": [],
   "source": [
    "# Run collection\n",
    "words.run_collection(retmax=retmax, **eutils_kwargs)"
   ]
  },
  {
   "cell_type": "markdown",
   "id": "5624803d",
   "metadata": {},
   "source": [
    "### Process Articles"
   ]
  },
  {
   "cell_type": "code",
   "execution_count": 24,
   "id": "0f387160",
   "metadata": {},
   "outputs": [],
   "source": [
    "# Compute the all-articles representations of results per search term\n",
    "arts_all = {}\n",
    "for label, res in zip(words.labels, words.results):\n",
    "    arts_all[label] = ArticlesAll(res)"
   ]
  },
  {
   "cell_type": "code",
   "execution_count": 25,
   "id": "3b1a990e",
   "metadata": {
    "scrolled": false
   },
   "outputs": [
    {
     "name": "stdout",
     "output_type": "stream",
     "text": [
      "parkinson's :\n",
      "  Number of articles: \t\t 0\n",
      "  First publication: \t\t None\n",
      "  Most common author: \t\t None\n",
      "    number of publications: \t None\n",
      "  Most common journal: \t\t None\n",
      "    number of publications: \t None \n",
      "\n",
      "epilepsy :\n",
      "  Number of articles: \t\t 3\n",
      "  First publication: \t\t 2024\n",
      "  Most common author: \t\t Latreille V\n",
      "    number of publications: \t 1\n",
      "  Most common journal: \t\t Epilepsia\n",
      "    number of publications: \t 1 \n",
      "\n",
      "ADHD :\n",
      "  Number of articles: \t\t 1\n",
      "  First publication: \t\t 2024\n",
      "  Most common author: \t\t Arnett AB\n",
      "    number of publications: \t 1\n",
      "  Most common journal: \t\t Clinical neurophysiology : official journal of the International Federation of Clinical Neurophysiology\n",
      "    number of publications: \t 1 \n",
      "\n",
      "autism :\n",
      "  Number of articles: \t\t 2\n",
      "  First publication: \t\t 2024\n",
      "  Most common author: \t\t Hill AT\n",
      "    number of publications: \t 1\n",
      "  Most common journal: \t\t bioRxiv : the preprint server for biology\n",
      "    number of publications: \t 1 \n",
      "\n",
      "alzheimers :\n",
      "  Number of articles: \t\t 2\n",
      "  First publication: \t\t 2024\n",
      "  Most common author: \t\t Campbell AJ\n",
      "    number of publications: \t 1\n",
      "  Most common journal: \t\t Neurobiology of aging\n",
      "    number of publications: \t 1 \n",
      "\n",
      "disorders of consciousness :\n",
      "  Number of articles: \t\t 0\n",
      "  First publication: \t\t None\n",
      "  Most common author: \t\t None\n",
      "    number of publications: \t None\n",
      "  Most common journal: \t\t None\n",
      "    number of publications: \t None \n",
      "\n",
      "depression :\n",
      "  Number of articles: \t\t 1\n",
      "  First publication: \t\t 2025\n",
      "  Most common author: \t\t Hacker C\n",
      "    number of publications: \t 1\n",
      "  Most common journal: \t\t Biological psychiatry. Cognitive neuroscience and neuroimaging\n",
      "    number of publications: \t 1 \n",
      "\n",
      "schizophrenia :\n",
      "  Number of articles: \t\t 2\n",
      "  First publication: \t\t 2024\n",
      "  Most common author: \t\t Østergaard FG\n",
      "    number of publications: \t 1\n",
      "  Most common journal: \t\t PloS one\n",
      "    number of publications: \t 1 \n",
      "\n",
      "stroke :\n",
      "  Number of articles: \t\t 0\n",
      "  First publication: \t\t None\n",
      "  Most common author: \t\t None\n",
      "    number of publications: \t None\n",
      "  Most common journal: \t\t None\n",
      "    number of publications: \t None \n",
      "\n",
      "dystonia :\n",
      "  Number of articles: \t\t 0\n",
      "  First publication: \t\t None\n",
      "  Most common author: \t\t None\n",
      "    number of publications: \t None\n",
      "  Most common journal: \t\t None\n",
      "    number of publications: \t None \n",
      "\n",
      "TBI :\n",
      "  Number of articles: \t\t 0\n",
      "  First publication: \t\t None\n",
      "  Most common author: \t\t None\n",
      "    number of publications: \t None\n",
      "  Most common journal: \t\t None\n",
      "    number of publications: \t None \n",
      "\n",
      "dyslexia :\n",
      "  Number of articles: \t\t 1\n",
      "  First publication: \t\t 2025\n",
      "  Most common author: \t\t Santoni A\n",
      "    number of publications: \t 1\n",
      "  Most common journal: \t\t NeuroImage. Clinical\n",
      "    number of publications: \t 1 \n",
      "\n",
      "glioma :\n",
      "  Number of articles: \t\t 0\n",
      "  First publication: \t\t None\n",
      "  Most common author: \t\t None\n",
      "    number of publications: \t None\n",
      "  Most common journal: \t\t None\n",
      "    number of publications: \t None \n",
      "\n",
      "huntington's :\n",
      "  Number of articles: \t\t 0\n",
      "  First publication: \t\t None\n",
      "  Most common author: \t\t None\n",
      "    number of publications: \t None\n",
      "  Most common journal: \t\t None\n",
      "    number of publications: \t None \n",
      "\n",
      "multiple sclerosis :\n",
      "  Number of articles: \t\t 1\n",
      "  First publication: \t\t 2024\n",
      "  Most common author: \t\t Akbarian F\n",
      "    number of publications: \t 1\n",
      "  Most common journal: \t\t Multiple sclerosis (Houndmills, Basingstoke, England)\n",
      "    number of publications: \t 1 \n",
      "\n",
      "PTSD :\n",
      "  Number of articles: \t\t 1\n",
      "  First publication: \t\t 2024\n",
      "  Most common author: \t\t Deiber MP\n",
      "    number of publications: \t 1\n",
      "  Most common journal: \t\t Journal of psychiatric research\n",
      "    number of publications: \t 1 \n",
      "\n",
      "REM sleep behavior disorder :\n",
      "  Number of articles: \t\t 0\n",
      "  First publication: \t\t None\n",
      "  Most common author: \t\t None\n",
      "    number of publications: \t None\n",
      "  Most common journal: \t\t None\n",
      "    number of publications: \t None \n",
      "\n",
      "rett syndrome :\n",
      "  Number of articles: \t\t 1\n",
      "  First publication: \t\t 2024\n",
      "  Most common author: \t\t Saby JN\n",
      "    number of publications: \t 1\n",
      "  Most common journal: \t\t Annals of neurology\n",
      "    number of publications: \t 1 \n",
      "\n",
      "22q.11.2 :\n",
      "  Number of articles: \t\t 0\n",
      "  First publication: \t\t None\n",
      "  Most common author: \t\t None\n",
      "    number of publications: \t None\n",
      "  Most common journal: \t\t None\n",
      "    number of publications: \t None \n",
      "\n",
      "ALS :\n",
      "  Number of articles: \t\t 0\n",
      "  First publication: \t\t None\n",
      "  Most common author: \t\t None\n",
      "    number of publications: \t None\n",
      "  Most common journal: \t\t None\n",
      "    number of publications: \t None \n",
      "\n",
      "anxiety :\n",
      "  Number of articles: \t\t 1\n",
      "  First publication: \t\t 2024\n",
      "  Most common author: \t\t Blaskovich B\n",
      "    number of publications: \t 1\n",
      "  Most common journal: \t\t Journal of sleep research\n",
      "    number of publications: \t 1 \n",
      "\n",
      "CDKL5 deficiency disorder :\n",
      "  Number of articles: \t\t 0\n",
      "  First publication: \t\t None\n",
      "  Most common author: \t\t None\n",
      "    number of publications: \t None\n",
      "  Most common journal: \t\t None\n",
      "    number of publications: \t None \n",
      "\n",
      "chronic pain :\n",
      "  Number of articles: \t\t 0\n",
      "  First publication: \t\t None\n",
      "  Most common author: \t\t None\n",
      "    number of publications: \t None\n",
      "  Most common journal: \t\t None\n",
      "    number of publications: \t None \n",
      "\n",
      "concussion :\n",
      "  Number of articles: \t\t 0\n",
      "  First publication: \t\t None\n",
      "  Most common author: \t\t None\n",
      "    number of publications: \t None\n",
      "  Most common journal: \t\t None\n",
      "    number of publications: \t None \n",
      "\n",
      "down syndrome :\n",
      "  Number of articles: \t\t 1\n",
      "  First publication: \t\t 2024\n",
      "  Most common author: \t\t Geiger M\n",
      "    number of publications: \t 1\n",
      "  Most common journal: \t\t Neurobiology of disease\n",
      "    number of publications: \t 1 \n",
      "\n",
      "fibromyalgia :\n",
      "  Number of articles: \t\t 0\n",
      "  First publication: \t\t None\n",
      "  Most common author: \t\t None\n",
      "    number of publications: \t None\n",
      "  Most common journal: \t\t None\n",
      "    number of publications: \t None \n",
      "\n",
      "fragile X :\n",
      "  Number of articles: \t\t 0\n",
      "  First publication: \t\t None\n",
      "  Most common author: \t\t None\n",
      "    number of publications: \t None\n",
      "  Most common journal: \t\t None\n",
      "    number of publications: \t None \n",
      "\n",
      "insomnia :\n",
      "  Number of articles: \t\t 0\n",
      "  First publication: \t\t None\n",
      "  Most common author: \t\t None\n",
      "    number of publications: \t None\n",
      "  Most common journal: \t\t None\n",
      "    number of publications: \t None \n",
      "\n",
      "NF1 :\n",
      "  Number of articles: \t\t 0\n",
      "  First publication: \t\t None\n",
      "  Most common author: \t\t None\n",
      "    number of publications: \t None\n",
      "  Most common journal: \t\t None\n",
      "    number of publications: \t None \n",
      "\n",
      "NREM parasomina :\n",
      "  Number of articles: \t\t 0\n",
      "  First publication: \t\t None\n",
      "  Most common author: \t\t None\n",
      "    number of publications: \t None\n",
      "  Most common journal: \t\t None\n",
      "    number of publications: \t None \n",
      "\n",
      "OCD :\n",
      "  Number of articles: \t\t 0\n",
      "  First publication: \t\t None\n",
      "  Most common author: \t\t None\n",
      "    number of publications: \t None\n",
      "  Most common journal: \t\t None\n",
      "    number of publications: \t None \n",
      "\n",
      "STXBP1 :\n",
      "  Number of articles: \t\t 0\n",
      "  First publication: \t\t None\n",
      "  Most common author: \t\t None\n",
      "    number of publications: \t None\n",
      "  Most common journal: \t\t None\n",
      "    number of publications: \t None \n",
      "\n",
      "tinnitus :\n",
      "  Number of articles: \t\t 0\n",
      "  First publication: \t\t None\n",
      "  Most common author: \t\t None\n",
      "    number of publications: \t None\n",
      "  Most common journal: \t\t None\n",
      "    number of publications: \t None \n",
      "\n",
      "tourette :\n",
      "  Number of articles: \t\t 0\n",
      "  First publication: \t\t None\n",
      "  Most common author: \t\t None\n",
      "    number of publications: \t None\n",
      "  Most common journal: \t\t None\n",
      "    number of publications: \t None \n",
      "\n",
      "tuberous sclerosis complex :\n",
      "  Number of articles: \t\t 0\n",
      "  First publication: \t\t None\n",
      "  Most common author: \t\t None\n",
      "    number of publications: \t None\n",
      "  Most common journal: \t\t None\n",
      "    number of publications: \t None \n",
      "\n",
      "delirium :\n",
      "  Number of articles: \t\t 0\n",
      "  First publication: \t\t None\n",
      "  Most common author: \t\t None\n",
      "    number of publications: \t None\n",
      "  Most common journal: \t\t None\n",
      "    number of publications: \t None \n",
      "\n",
      "stutter :\n",
      "  Number of articles: \t\t 0\n",
      "  First publication: \t\t None\n",
      "  Most common author: \t\t None\n",
      "    number of publications: \t None\n",
      "  Most common journal: \t\t None\n",
      "    number of publications: \t None \n",
      "\n",
      "cancer :\n",
      "  Number of articles: \t\t 0\n",
      "  First publication: \t\t None\n",
      "  Most common author: \t\t None\n",
      "    number of publications: \t None\n",
      "  Most common journal: \t\t None\n",
      "    number of publications: \t None \n",
      "\n"
     ]
    }
   ],
   "source": [
    "# Check the summaries per search term\n",
    "for label, arts in arts_all.items():\n",
    "    arts.create_summary()\n",
    "    arts.print_summary()"
   ]
  },
  {
   "cell_type": "code",
   "execution_count": 26,
   "id": "3212794d",
   "metadata": {
    "scrolled": false
   },
   "outputs": [
    {
     "name": "stdout",
     "output_type": "stream",
     "text": [
      "\n",
      "Label: parkinson's (0 articles)\n",
      "\n",
      "\n",
      "Label: epilepsy (3 articles)\n",
      "\n",
      "Latreille et al, 2024: Oscillatory and nonoscillatory sleep electroencephalographic biomarkers of the epileptic network. https://dx.doi.org/10.1111/epi.18088\n",
      "Kopf et al, 2024: Aperiodic Activity Indexes Neural Hyperexcitability in Generalized Epilepsy. https://dx.doi.org/10.1523/ENEURO.0242-24.2024\n",
      "Duma et al, 2024: Excitation/Inhibition balance relates to cognitive function and gene expression in temporal lobe epilepsy: a high density EEG assessment with aperiodic exponent. https://dx.doi.org/10.1093/braincomms/fcae231\n",
      "\n",
      "Label: ADHD (1 articles)\n",
      "\n",
      "Arnett et al, 2024: EEG aperiodic dynamics from early through late childhood: Associations with ADHD, cognition, and development. https://dx.doi.org/10.1016/j.clinph.2024.11.001\n",
      "\n",
      "Label: autism (2 articles)\n",
      "\n",
      "Hill et al, 2024: EEG During Dynamic Facial Emotion Processing Reveals Neural Activity Patterns Associated with Autistic Traits in Children. https://dx.doi.org/10.1101/2024.08.27.609816\n",
      "Østergaard et al, 2024: The aperiodic exponent of neural activity varies with vigilance state in mice and men. https://dx.doi.org/10.1371/journal.pone.0301406\n",
      "\n",
      "Label: alzheimers (2 articles)\n",
      "\n",
      "Campbell et al, 2024: Resting-state EEG correlates of sustained attention in healthy ageing: Cross-sectional findings from the LEISURE study. https://dx.doi.org/10.1016/j.neurobiolaging.2024.09.005\n",
      "Østergaard et al, 2024: The aperiodic exponent of neural activity varies with vigilance state in mice and men. https://dx.doi.org/10.1371/journal.pone.0301406\n",
      "\n",
      "Label: disorders of consciousness (0 articles)\n",
      "\n",
      "\n",
      "Label: depression (1 articles)\n",
      "\n",
      "Hacker et al, 2025: Aperiodic (1/f) Neural Activity Robustly Tracks Symptom Severity Changes in Treatment-Resistant Depression. https://dx.doi.org/10.1016/j.bpsc.2024.10.019\n",
      "\n",
      "Label: schizophrenia (2 articles)\n",
      "\n",
      "Østergaard et al, 2024: The aperiodic exponent of neural activity varies with vigilance state in mice and men. https://dx.doi.org/10.1371/journal.pone.0301406\n",
      "Earl et al, 2024: Exploring aperiodic activity in first episode schizophrenia spectrum psychosis: A resting-state EEG analysis. https://dx.doi.org/10.1016/j.brainres.2024.149052\n",
      "\n",
      "Label: stroke (0 articles)\n",
      "\n",
      "\n",
      "Label: dystonia (0 articles)\n",
      "\n",
      "\n",
      "Label: TBI (0 articles)\n",
      "\n",
      "\n",
      "Label: dyslexia (1 articles)\n",
      "\n",
      "Santoni et al, 2025: Atypical oscillatory and aperiodic signatures of visual sampling in developmental dyslexia. https://dx.doi.org/10.1016/j.nicl.2024.103720\n",
      "\n",
      "Label: glioma (0 articles)\n",
      "\n",
      "\n",
      "Label: huntington's (0 articles)\n",
      "\n",
      "\n",
      "Label: multiple sclerosis (1 articles)\n",
      "\n",
      "Akbarian et al, 2024: Stimulus-related modulation in the 1/f spectral slope suggests an impaired inhibition during a working memory task in people with multiple sclerosis. https://dx.doi.org/10.1177/13524585241253777\n",
      "\n",
      "Label: PTSD (1 articles)\n",
      "\n",
      "Deiber et al, 2024: A biomarker of brain arousal mediates the intergenerational link between maternal and child post-traumatic stress disorder. https://dx.doi.org/10.1016/j.jpsychires.2024.07.034\n",
      "\n",
      "Label: REM sleep behavior disorder (0 articles)\n",
      "\n",
      "\n",
      "Label: rett syndrome (1 articles)\n",
      "\n",
      "Saby et al, 2024: Electroencephalographic Correlates of Clinical Severity in the Natural history study of RTT and Related Disorders. https://dx.doi.org/10.1002/ana.26948\n",
      "\n",
      "Label: 22q.11.2 (0 articles)\n",
      "\n",
      "\n",
      "Label: ALS (0 articles)\n",
      "\n",
      "\n",
      "Label: anxiety (1 articles)\n",
      "\n",
      "Blaskovich et al, 2024: The utility of wearable headband electroencephalography and pulse photoplethysmography to assess cortical and physiological arousal in individuals with stress-related mental disorders. https://dx.doi.org/10.1111/jsr.14123\n",
      "\n",
      "Label: CDKL5 deficiency disorder (0 articles)\n",
      "\n",
      "\n",
      "Label: chronic pain (0 articles)\n",
      "\n",
      "\n",
      "Label: concussion (0 articles)\n",
      "\n",
      "\n",
      "Label: down syndrome (1 articles)\n",
      "\n",
      "Geiger et al, 2024: Alterations in aperiodic and periodic EEG activity in young children with Down syndrome. https://dx.doi.org/10.1016/j.nbd.2024.106643\n",
      "\n",
      "Label: fibromyalgia (0 articles)\n",
      "\n",
      "\n",
      "Label: fragile X (0 articles)\n",
      "\n",
      "\n",
      "Label: insomnia (0 articles)\n",
      "\n",
      "\n",
      "Label: NF1 (0 articles)\n",
      "\n",
      "\n",
      "Label: NREM parasomina (0 articles)\n",
      "\n",
      "\n",
      "Label: OCD (0 articles)\n",
      "\n",
      "\n",
      "Label: STXBP1 (0 articles)\n",
      "\n",
      "\n",
      "Label: tinnitus (0 articles)\n",
      "\n",
      "\n",
      "Label: tourette (0 articles)\n",
      "\n",
      "\n",
      "Label: tuberous sclerosis complex (0 articles)\n",
      "\n",
      "\n",
      "Label: delirium (0 articles)\n",
      "\n",
      "\n",
      "Label: stutter (0 articles)\n",
      "\n",
      "\n",
      "Label: cancer (0 articles)\n",
      "\n",
      "\n",
      "\n"
     ]
    }
   ],
   "source": [
    "# Check the results per search term\n",
    "words.check_articles()"
   ]
  }
 ],
 "metadata": {
  "kernelspec": {
   "display_name": "Python 3 (ipykernel)",
   "language": "python",
   "name": "python3"
  },
  "language_info": {
   "codemirror_mode": {
    "name": "ipython",
    "version": 3
   },
   "file_extension": ".py",
   "mimetype": "text/x-python",
   "name": "python",
   "nbconvert_exporter": "python",
   "pygments_lexer": "ipython3",
   "version": "3.8.3"
  }
 },
 "nbformat": 4,
 "nbformat_minor": 5
}
