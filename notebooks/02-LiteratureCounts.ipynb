{
 "cells": [
  {
   "cell_type": "markdown",
   "id": "08c66068",
   "metadata": {},
   "source": [
    "# Literature Counts\n",
    "\n",
    "This notebook uses automated literature searches to collect co-occurence data for the aperiodic-clinical project. \n",
    "\n",
    "Tools:\n",
    "- literature searches and analyses are done with the [lisc](https://lisc-tools.github.io/lisc/) module"
   ]
  },
  {
   "cell_type": "code",
   "execution_count": 1,
   "id": "9369f294",
   "metadata": {},
   "outputs": [],
   "source": [
    "# Import LISC code\n",
    "from lisc import Counts\n",
    "from lisc.plts.counts import plot_matrix"
   ]
  },
  {
   "cell_type": "code",
   "execution_count": 2,
   "id": "c65261f1",
   "metadata": {},
   "outputs": [],
   "source": [
    "# Import local code\n",
    "from local.terms import TERMS"
   ]
  },
  {
   "cell_type": "code",
   "execution_count": 3,
   "id": "5cc4f9a8",
   "metadata": {},
   "outputs": [],
   "source": [
    "import seaborn as sns\n",
    "sns.set_context('talk')"
   ]
  },
  {
   "cell_type": "markdown",
   "id": "1190bafc",
   "metadata": {},
   "source": [
    "## Settings"
   ]
  },
  {
   "cell_type": "code",
   "execution_count": 4,
   "id": "d9a8acbd",
   "metadata": {},
   "outputs": [],
   "source": [
    "# Data collection settings\n",
    "RUN_COLLECTION = True"
   ]
  },
  {
   "cell_type": "code",
   "execution_count": 5,
   "id": "c46ddd10",
   "metadata": {},
   "outputs": [],
   "source": [
    "# Settings for literature collection\n",
    "db = 'pubmed'"
   ]
  },
  {
   "cell_type": "markdown",
   "id": "2ab1e3ca",
   "metadata": {},
   "source": [
    "## Counts - Clinical\n",
    "\n",
    "Count the co-occurence between aperiodic measure related terms and general clinical terms."
   ]
  },
  {
   "cell_type": "code",
   "execution_count": 6,
   "id": "e47240a1",
   "metadata": {},
   "outputs": [],
   "source": [
    "# Initialize counts object\n",
    "counts = Counts()"
   ]
  },
  {
   "cell_type": "code",
   "execution_count": 7,
   "id": "18cc9124",
   "metadata": {},
   "outputs": [],
   "source": [
    "# Add association terms to the LISC object\n",
    "counts.add_terms(TERMS['AP'], dim='A')\n",
    "counts.add_terms(TERMS['CLINICAL'], dim='B')"
   ]
  },
  {
   "cell_type": "code",
   "execution_count": 8,
   "id": "8a8ae1fb",
   "metadata": {},
   "outputs": [
    {
     "name": "stdout",
     "output_type": "stream",
     "text": [
      "List of terms used: \n",
      "\n",
      "aperiodic exponent  : aperiodic exponent, spectral slope, 1/f slope, 1/f exponent\n"
     ]
    }
   ],
   "source": [
    "# Check terms - A\n",
    "counts.terms['A'].check_terms()"
   ]
  },
  {
   "cell_type": "code",
   "execution_count": 9,
   "id": "1e5d3fcd",
   "metadata": {},
   "outputs": [
    {
     "name": "stdout",
     "output_type": "stream",
     "text": [
      "List of terms used: \n",
      "\n",
      "clinical   : clinical\n",
      "disorder   : disorder, disease\n",
      "biomarker  : biomarker\n"
     ]
    }
   ],
   "source": [
    "# Check terms - B\n",
    "counts.terms['B'].check_terms()"
   ]
  },
  {
   "cell_type": "code",
   "execution_count": 10,
   "id": "9a7a0c61",
   "metadata": {},
   "outputs": [
    {
     "name": "stderr",
     "output_type": "stream",
     "text": [
      "/Users/tom/opt/anaconda3/lib/python3.8/site-packages/bs4/builder/__init__.py:545: XMLParsedAsHTMLWarning: It looks like you're parsing an XML document using an HTML parser. If this really is an HTML document (maybe it's XHTML?), you can ignore or filter this warning. If it's XML, you should know that using an XML parser will be more reliable. To parse this document as XML, make sure you have the lxml package installed, and pass the keyword argument `features=\"xml\"` into the BeautifulSoup constructor.\n",
      "  warnings.warn(\n"
     ]
    }
   ],
   "source": [
    "# Run the data collection\n",
    "if RUN_COLLECTION:\n",
    "    counts.run_collection(db=db)"
   ]
  },
  {
   "cell_type": "markdown",
   "id": "f5efd741",
   "metadata": {},
   "source": [
    "### Check Collection"
   ]
  },
  {
   "cell_type": "code",
   "execution_count": 11,
   "id": "dbcbd90e",
   "metadata": {},
   "outputs": [
    {
     "data": {
      "image/png": "[encoded data removed]",
      "text/plain": [
       "<Figure size 250x400 with 2 Axes>"
      ]
     },
     "metadata": {},
     "output_type": "display_data"
    }
   ],
   "source": [
    "# Check the results of the link\n",
    "plot_matrix(counts.counts.T,\n",
    "            counts.terms['A'].labels,\n",
    "            counts.terms['B'].labels, \n",
    "            figsize=(2.5, 4))"
   ]
  },
  {
   "cell_type": "markdown",
   "id": "7f832464",
   "metadata": {},
   "source": [
    "## Counts - Disorders\n",
    "\n",
    "Count the co-occurence between aperiodic measure related terms and disorder related terms."
   ]
  },
  {
   "cell_type": "code",
   "execution_count": 12,
   "id": "ead10476",
   "metadata": {},
   "outputs": [],
   "source": [
    "# Initialize counts object\n",
    "counts = Counts()"
   ]
  },
  {
   "cell_type": "code",
   "execution_count": 13,
   "id": "f070dfb4",
   "metadata": {},
   "outputs": [],
   "source": [
    "# Add association terms to the LISC object\n",
    "counts.add_terms(TERMS['AP'], dim='A')\n",
    "counts.add_terms(TERMS['DISORDERS'], dim='B')"
   ]
  },
  {
   "cell_type": "code",
   "execution_count": 14,
   "id": "11e1cf24",
   "metadata": {},
   "outputs": [
    {
     "name": "stdout",
     "output_type": "stream",
     "text": [
      "List of terms used: \n",
      "\n",
      "aperiodic exponent  : aperiodic exponent, spectral slope, 1/f slope, 1/f exponent\n"
     ]
    }
   ],
   "source": [
    "# Check terms - A\n",
    "counts.terms['A'].check_terms()"
   ]
  },
  {
   "cell_type": "code",
   "execution_count": 15,
   "id": "43452c2d",
   "metadata": {},
   "outputs": [
    {
     "name": "stdout",
     "output_type": "stream",
     "text": [
      "List of terms used: \n",
      "\n",
      "parkinson's                 : parkinson's\n",
      "epilepsy                    : epilepsy, seizure\n",
      "adhd                        : adhd, attention deficit hyperactivity disorder\n",
      "autism                      : autism\n",
      "alzheimers                  : alzheimers, dementia\n",
      "disorders of consciousness  : disorders of consciousness, coma\n",
      "depression                  : depression, MDD\n",
      "schizophrenia               : schizophrenia, \n"
     ]
    }
   ],
   "source": [
    "# Check terms - B\n",
    "counts.terms['B'].check_terms()"
   ]
  },
  {
   "cell_type": "code",
   "execution_count": 16,
   "id": "146ff29a",
   "metadata": {},
   "outputs": [
    {
     "name": "stderr",
     "output_type": "stream",
     "text": [
      "/Users/tom/opt/anaconda3/lib/python3.8/site-packages/bs4/builder/__init__.py:545: XMLParsedAsHTMLWarning: It looks like you're parsing an XML document using an HTML parser. If this really is an HTML document (maybe it's XHTML?), you can ignore or filter this warning. If it's XML, you should know that using an XML parser will be more reliable. To parse this document as XML, make sure you have the lxml package installed, and pass the keyword argument `features=\"xml\"` into the BeautifulSoup constructor.\n",
      "  warnings.warn(\n"
     ]
    }
   ],
   "source": [
    "# Run the data collection\n",
    "if RUN_COLLECTION:\n",
    "    counts.run_collection(db=db)"
   ]
  },
  {
   "cell_type": "markdown",
   "id": "a9c5a98c",
   "metadata": {},
   "source": [
    "### Check Collection"
   ]
  },
  {
   "cell_type": "code",
   "execution_count": 17,
   "id": "a7634056",
   "metadata": {},
   "outputs": [
    {
     "name": "stderr",
     "output_type": "stream",
     "text": [
      "/Users/tom/opt/anaconda3/lib/python3.8/site-packages/lisc/plts/counts.py:75: UserWarning: Tight layout not applied. The left and right margins cannot be made large enough to accommodate all axes decorations.\n",
      "  plt.tight_layout()\n"
     ]
    },
    {
     "data": {
      "image/png": "[encoded data removed]",
      "text/plain": [
       "<Figure size 150x600 with 2 Axes>"
      ]
     },
     "metadata": {},
     "output_type": "display_data"
    }
   ],
   "source": [
    "# Plot the collected data results\n",
    "plot_matrix(counts.counts.T,\n",
    "            counts.terms['A'].labels,\n",
    "            counts.terms['B'].labels, \n",
    "            figsize=(1.5, 6))"
   ]
  }
 ],
 "metadata": {
  "kernelspec": {
   "display_name": "Python 3 (ipykernel)",
   "language": "python",
   "name": "python3"
  },
  "language_info": {
   "codemirror_mode": {
    "name": "ipython",
    "version": 3
   },
   "file_extension": ".py",
   "mimetype": "text/x-python",
   "name": "python",
   "nbconvert_exporter": "python",
   "pygments_lexer": "ipython3",
   "version": "3.8.3"
  }
 },
 "nbformat": 4,
 "nbformat_minor": 5
}
