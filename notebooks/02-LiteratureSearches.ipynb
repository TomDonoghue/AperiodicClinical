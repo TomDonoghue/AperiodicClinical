{
 "cells": [
  {
   "cell_type": "markdown",
   "id": "08c66068",
   "metadata": {},
   "source": [
    "# Literature Searches\n",
    "\n",
    "This notebook uses automated literature searches to find, collect, and analyze literature for the aperiodic-clinical project. \n",
    "\n",
    "Tools:\n",
    "- literature searches and analyses are done with the [lisc](https://lisc-tools.github.io/lisc/) module"
   ]
  },
  {
   "cell_type": "code",
   "execution_count": 27,
   "id": "9369f294",
   "metadata": {},
   "outputs": [],
   "source": [
    "# Import LISC code\n",
    "from lisc import Counts, Words\n",
    "\n",
    "from lisc.plts.counts import plot_matrix"
   ]
  },
  {
   "cell_type": "code",
   "execution_count": null,
   "id": "5cc4f9a8",
   "metadata": {},
   "outputs": [],
   "source": [
    "import seaborn as sns\n",
    "sns.set_context('talk')"
   ]
  },
  {
   "cell_type": "markdown",
   "id": "1190bafc",
   "metadata": {},
   "source": [
    "## Settings"
   ]
  },
  {
   "cell_type": "code",
   "execution_count": 17,
   "id": "d9a8acbd",
   "metadata": {},
   "outputs": [],
   "source": [
    "RUN_COLLECTION = True"
   ]
  },
  {
   "cell_type": "code",
   "execution_count": 19,
   "id": "c46ddd10",
   "metadata": {},
   "outputs": [],
   "source": [
    "# Settings for literature collection\n",
    "db = 'pubmed'"
   ]
  },
  {
   "cell_type": "markdown",
   "id": "9379e2f5",
   "metadata": {},
   "source": [
    "## Terms"
   ]
  },
  {
   "cell_type": "code",
   "execution_count": 49,
   "id": "38e5e699",
   "metadata": {},
   "outputs": [],
   "source": [
    "aperiodic_measures = [\n",
    "    ['aperiodic exponent', 'spectral slope', '1/f slope', '1/f exponent'],\n",
    "]"
   ]
  },
  {
   "cell_type": "code",
   "execution_count": 79,
   "id": "32a8e89f",
   "metadata": {},
   "outputs": [],
   "source": [
    "disorders = [\n",
    "    [\"parkinson's\"],\n",
    "    ['epilepsy', 'seizure'],\n",
    "    ['adhd', 'attention deficit hyperactivity disorder'],\n",
    "    ['autism'],\n",
    "    ['alzheimers', 'dementia'],\n",
    "    ['disorders of consciousness', 'coma'],\n",
    "    ['depression', 'MDD'],\n",
    "    ['schizophrenia', ''],\n",
    "]"
   ]
  },
  {
   "cell_type": "code",
   "execution_count": null,
   "id": "f5c1048c",
   "metadata": {},
   "outputs": [],
   "source": []
  },
  {
   "cell_type": "code",
   "execution_count": null,
   "id": "0740e26c",
   "metadata": {},
   "outputs": [],
   "source": []
  },
  {
   "cell_type": "code",
   "execution_count": 80,
   "id": "ead10476",
   "metadata": {},
   "outputs": [],
   "source": [
    "# Initialize counts object\n",
    "counts = Counts()"
   ]
  },
  {
   "cell_type": "code",
   "execution_count": null,
   "id": "903c89cb",
   "metadata": {},
   "outputs": [],
   "source": []
  },
  {
   "cell_type": "code",
   "execution_count": 81,
   "id": "f070dfb4",
   "metadata": {},
   "outputs": [],
   "source": [
    "# Add association terms to the LISC object\n",
    "counts.add_terms(aperiodic_measures, dim='A')\n",
    "counts.add_terms(disorders, dim='B')"
   ]
  },
  {
   "cell_type": "code",
   "execution_count": 82,
   "id": "11e1cf24",
   "metadata": {},
   "outputs": [
    {
     "name": "stdout",
     "output_type": "stream",
     "text": [
      "List of terms used: \n",
      "\n",
      "aperiodic exponent  : aperiodic exponent, spectral slope, 1/f slope, 1/f exponent\n"
     ]
    }
   ],
   "source": [
    "# Check terms - A\n",
    "counts.terms['A'].check_terms()"
   ]
  },
  {
   "cell_type": "code",
   "execution_count": 83,
   "id": "43452c2d",
   "metadata": {},
   "outputs": [
    {
     "name": "stdout",
     "output_type": "stream",
     "text": [
      "List of terms used: \n",
      "\n",
      "parkinson's                 : parkinson's\n",
      "epilepsy                    : epilepsy, seizure\n",
      "adhd                        : adhd, attention deficit hyperactivity disorder\n",
      "autism                      : autism\n",
      "alzheimers                  : alzheimers, dementia\n",
      "disorders of consciousness  : disorders of consciousness, coma\n",
      "depression                  : depression, MDD\n",
      "schizophrenia               : schizophrenia, \n"
     ]
    }
   ],
   "source": [
    "# Check terms - B\n",
    "counts.terms['B'].check_terms()"
   ]
  },
  {
   "cell_type": "code",
   "execution_count": 84,
   "id": "146ff29a",
   "metadata": {},
   "outputs": [
    {
     "name": "stderr",
     "output_type": "stream",
     "text": [
      "/Users/tom/opt/anaconda3/lib/python3.8/site-packages/bs4/builder/__init__.py:545: XMLParsedAsHTMLWarning: It looks like you're parsing an XML document using an HTML parser. If this really is an HTML document (maybe it's XHTML?), you can ignore or filter this warning. If it's XML, you should know that using an XML parser will be more reliable. To parse this document as XML, make sure you have the lxml package installed, and pass the keyword argument `features=\"xml\"` into the BeautifulSoup constructor.\n",
      "  warnings.warn(\n"
     ]
    }
   ],
   "source": [
    "# Run the data collection\n",
    "if RUN_COLLECTION:\n",
    "    counts.run_collection(db=db)\n",
    "else:\n",
    "    pass\n",
    "    #counts = load_object('brs_counts.p', directory=dp.literature)"
   ]
  },
  {
   "cell_type": "markdown",
   "id": "a9c5a98c",
   "metadata": {},
   "source": [
    "### Check Collection"
   ]
  },
  {
   "cell_type": "code",
   "execution_count": 85,
   "id": "6ad91b89",
   "metadata": {},
   "outputs": [
    {
     "name": "stdout",
     "output_type": "stream",
     "text": [
      "The number of documents found for each search term is:\n",
      "  'aperiodic exponent'   -   514\n"
     ]
    }
   ],
   "source": [
    "counts.check_counts()"
   ]
  },
  {
   "cell_type": "code",
   "execution_count": 86,
   "id": "c550e768",
   "metadata": {},
   "outputs": [
    {
     "name": "stdout",
     "output_type": "stream",
     "text": [
      "The number of documents found for each search term is:\n",
      "  'aperiodic exponent'   -   514\n",
      "The number of documents found for each search term is:\n",
      "  'parkinson's'                  -   120836\n",
      "  'epilepsy'                     -   175346\n",
      "  'adhd'                         -    42476\n",
      "  'autism'                       -    67691\n",
      "  'alzheimers'                   -   152983\n",
      "  'disorders of consciousness'   -    42126\n",
      "  'depression'                   -   464199\n",
      "  'schizophrenia'                -   135977\n"
     ]
    }
   ],
   "source": [
    "# Check how many papers were found for each ratio search term\n",
    "counts.check_counts('A')\n",
    "counts.check_counts('B')"
   ]
  },
  {
   "cell_type": "code",
   "execution_count": 87,
   "id": "41cea126",
   "metadata": {},
   "outputs": [
    {
     "data": {
      "text/plain": [
       "array([[10, 12, 10,  8,  4,  1,  6,  3]])"
      ]
     },
     "execution_count": 87,
     "metadata": {},
     "output_type": "execute_result"
    }
   ],
   "source": [
    "counts.counts"
   ]
  },
  {
   "cell_type": "code",
   "execution_count": 88,
   "id": "d15e47fc",
   "metadata": {},
   "outputs": [
    {
     "data": {
      "text/plain": [
       "['aperiodic exponent']"
      ]
     },
     "execution_count": 88,
     "metadata": {},
     "output_type": "execute_result"
    }
   ],
   "source": [
    "counts.terms['A'].labels\n"
   ]
  },
  {
   "cell_type": "code",
   "execution_count": 89,
   "id": "e23bcb00",
   "metadata": {},
   "outputs": [],
   "source": [
    "# clinical_labels = \n",
    "# ap_labels = ['exponent']"
   ]
  },
  {
   "cell_type": "code",
   "execution_count": 90,
   "id": "a7634056",
   "metadata": {},
   "outputs": [
    {
     "name": "stderr",
     "output_type": "stream",
     "text": [
      "/Users/tom/opt/anaconda3/lib/python3.8/site-packages/lisc/plts/counts.py:75: UserWarning: Tight layout not applied. The left and right margins cannot be made large enough to accommodate all axes decorations.\n",
      "  plt.tight_layout()\n"
     ]
    },
    {
     "data": {
      "image/png": "[encoded data removed]",
      "text/plain": [
       "<Figure size 150x800 with 2 Axes>"
      ]
     },
     "metadata": {},
     "output_type": "display_data"
    }
   ],
   "source": [
    "plot_matrix(counts.counts.T,\n",
    "            counts.terms['A'].labels,\n",
    "            counts.terms['B'].labels, \n",
    "            figsize=(1.5, 8))"
   ]
  },
  {
   "cell_type": "markdown",
   "id": "d1db9b05",
   "metadata": {},
   "source": [
    "## Words"
   ]
  },
  {
   "cell_type": "code",
   "execution_count": 1,
   "id": "306242b0",
   "metadata": {},
   "outputs": [
    {
     "ename": "NameError",
     "evalue": "name 'Words' is not defined",
     "output_type": "error",
     "traceback": [
      "\u001b[0;31m---------------------------------------------------------------------------\u001b[0m",
      "\u001b[0;31mNameError\u001b[0m                                 Traceback (most recent call last)",
      "Input \u001b[0;32mIn [1]\u001b[0m, in \u001b[0;36m<cell line: 1>\u001b[0;34m()\u001b[0m\n\u001b[0;32m----> 1\u001b[0m words \u001b[38;5;241m=\u001b[39m \u001b[43mWords\u001b[49m()\n",
      "\u001b[0;31mNameError\u001b[0m: name 'Words' is not defined"
     ]
    }
   ],
   "source": [
    "words = Words()"
   ]
  },
  {
   "cell_type": "code",
   "execution_count": null,
   "id": "df42524e",
   "metadata": {},
   "outputs": [],
   "source": []
  },
  {
   "cell_type": "code",
   "execution_count": null,
   "id": "946ab261",
   "metadata": {},
   "outputs": [],
   "source": []
  },
  {
   "cell_type": "code",
   "execution_count": null,
   "id": "d669e05e",
   "metadata": {},
   "outputs": [],
   "source": []
  },
  {
   "cell_type": "code",
   "execution_count": null,
   "id": "43673746",
   "metadata": {},
   "outputs": [],
   "source": []
  }
 ],
 "metadata": {
  "kernelspec": {
   "display_name": "Python 3 (ipykernel)",
   "language": "python",
   "name": "python3"
  },
  "language_info": {
   "codemirror_mode": {
    "name": "ipython",
    "version": 3
   },
   "file_extension": ".py",
   "mimetype": "text/x-python",
   "name": "python",
   "nbconvert_exporter": "python",
   "pygments_lexer": "ipython3",
   "version": "3.8.3"
  }
 },
 "nbformat": 4,
 "nbformat_minor": 5
}
